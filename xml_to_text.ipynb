{
 "cells": [
  {
   "cell_type": "code",
   "execution_count": 3,
   "metadata": {},
   "outputs": [
    {
     "name": "stdout",
     "output_type": "stream",
     "text": [
      "Conversion complete!\n"
     ]
    }
   ],
   "source": [
    "import xml.etree.ElementTree as ET\n",
    "import os\n",
    "\n",
    "# Specify your paths\n",
    "input_dir = r'E:\\Coding\\Intern Sprouts\\sign laguange detection\\yolov5\\data\\val\\xml labels'\n",
    "output_dir = r'E:\\Coding\\Intern Sprouts\\sign laguange detection\\yolov5\\data\\val\\labels'\n",
    "image_width = 640  # Replace with actual image width\n",
    "image_height = 480  # Replace with actual image height\n",
    "\n",
    "# Make output directory if it doesn't exist\n",
    "os.makedirs(output_dir, exist_ok=True)\n",
    "\n",
    "def convert_to_yolo_format(xml_file, output_dir, image_width, image_height):\n",
    "    tree = ET.parse(xml_file)\n",
    "    root = tree.getroot()\n",
    "\n",
    "    label_path = os.path.join(output_dir, os.path.basename(xml_file).replace(\".xml\", \".txt\"))\n",
    "    with open(label_path, \"w\") as label_file:\n",
    "        for obj in root.findall(\"object\"):\n",
    "            class_id = obj.find(\"name\").text  # Adjust class mapping if necessary\n",
    "            bbox = obj.find(\"bndbox\")\n",
    "            \n",
    "            # Read bounding box coordinates\n",
    "            xmin = int(bbox.find(\"xmin\").text)\n",
    "            ymin = int(bbox.find(\"ymin\").text)\n",
    "            xmax = int(bbox.find(\"xmax\").text)\n",
    "            ymax = int(bbox.find(\"ymax\").text)\n",
    "            \n",
    "            # Convert to YOLO format (normalized)\n",
    "            x_center = (xmin + xmax) / 2.0 / image_width\n",
    "            y_center = (ymin + ymax) / 2.0 / image_height\n",
    "            width = (xmax - xmin) / image_width\n",
    "            height = (ymax - ymin) / image_height\n",
    "            \n",
    "            # Write to label file\n",
    "            label_file.write(f\"{class_id} {x_center} {y_center} {width} {height}\\n\")\n",
    "\n",
    "# Process all XML files\n",
    "for xml_file in os.listdir(input_dir):\n",
    "    if xml_file.endswith(\".xml\"):\n",
    "        convert_to_yolo_format(os.path.join(input_dir, xml_file), output_dir, image_width, image_height)\n",
    "\n",
    "print(\"Conversion complete!\")\n"
   ]
  },
  {
   "cell_type": "markdown",
   "metadata": {},
   "source": [
    "Format that yolo reads"
   ]
  },
  {
   "cell_type": "code",
   "execution_count": 3,
   "metadata": {},
   "outputs": [
    {
     "name": "stdout",
     "output_type": "stream",
     "text": [
      "Conversion complete. Converted files are saved in the output directory.\n"
     ]
    }
   ],
   "source": [
    "import os\n",
    "\n",
    "# Define the mapping of class names to indices\n",
    "class_mapping = {\n",
    "    'helllo': 0,\n",
    "    'iloveyou': 1,\n",
    "    'no': 2,\n",
    "    'thanks': 3,\n",
    "    'yes': 4\n",
    "}\n",
    "\n",
    "# Directory paths\n",
    "input_dir = r\"E:\\Coding\\Intern Sprouts\\sign laguange detection\\yolov5\\data\\val\\ssd format\"\n",
    "output_dir = r\"E:\\Coding\\Intern Sprouts\\sign laguange detection\\yolov5\\data\\val\\labels\"\n",
    "os.makedirs(output_dir, exist_ok=True)\n",
    "\n",
    "# Process each label file\n",
    "for filename in os.listdir(input_dir):\n",
    "    if filename.endswith(\".txt\"):\n",
    "        input_path = os.path.join(input_dir, filename)\n",
    "        output_path = os.path.join(output_dir, filename)\n",
    "\n",
    "        with open(input_path, 'r') as file:\n",
    "            lines = file.readlines()\n",
    "\n",
    "        with open(output_path, 'w') as file:\n",
    "            for line in lines:\n",
    "                parts = line.strip().split()\n",
    "                class_name = parts[0]\n",
    "                if class_name in class_mapping:\n",
    "                    class_index = class_mapping[class_name]\n",
    "                    bbox_data = parts[1:]\n",
    "                    new_line = f\"{class_index} \" + \" \".join(bbox_data) + \"\\n\"\n",
    "                    file.write(new_line)\n",
    "                else:\n",
    "                    print(f\"Warning: Unknown class '{class_name}' in file {filename}\")\n",
    "\n",
    "print(\"Conversion complete. Converted files are saved in the output directory.\")\n"
   ]
  }
 ],
 "metadata": {
  "kernelspec": {
   "display_name": "cuda_torch_env",
   "language": "python",
   "name": "python3"
  },
  "language_info": {
   "codemirror_mode": {
    "name": "ipython",
    "version": 3
   },
   "file_extension": ".py",
   "mimetype": "text/x-python",
   "name": "python",
   "nbconvert_exporter": "python",
   "pygments_lexer": "ipython3",
   "version": "3.12.3"
  }
 },
 "nbformat": 4,
 "nbformat_minor": 2
}
